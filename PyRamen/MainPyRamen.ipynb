{
 "metadata": {
  "language_info": {
   "codemirror_mode": {
    "name": "ipython",
    "version": 3
   },
   "file_extension": ".py",
   "mimetype": "text/x-python",
   "name": "python",
   "nbconvert_exporter": "python",
   "pygments_lexer": "ipython3",
   "version": "3.8.3-final"
  },
  "orig_nbformat": 2,
  "kernelspec": {
   "name": "python3",
   "display_name": "Python 3"
  }
 },
 "nbformat": 4,
 "nbformat_minor": 2,
 "cells": [
  {
   "cell_type": "code",
   "execution_count": 1,
   "metadata": {},
   "outputs": [],
   "source": [
    "from pathlib import Path\n",
    "import csv\n",
    "import numpy as np\n",
    "import pandas as pd"
   ]
  },
  {
   "cell_type": "code",
   "execution_count": 44,
   "metadata": {},
   "outputs": [],
   "source": [
    "# Set Path\n",
    "menupath = Path('../Resources/menu_data.csv')\n",
    "menu = list(\"\")\n",
    "with open(menupath, 'r') as csvfile:\n",
    "    menudata = csv.reader(csvfile, delimiter=',')\n",
    "    menu_header = next(menudata)\n",
    "\n",
    "    for row in menudata:\n",
    "        menu.append(row)\n",
    "\n",
    "salespath = Path('../Resources/sales_data.csv')\n",
    "sales = list(\"\")\n",
    "with open(salespath, 'r') as csvfile:\n",
    "    salesdata = csv.reader(csvfile, delimiter=',')\n",
    "    sales_header = next(salesdata)\n",
    "\n",
    "    for row in salesdata:\n",
    "        sales.append(row)"
   ]
  },
  {
   "cell_type": "code",
   "execution_count": 43,
   "metadata": {},
   "outputs": [
    {
     "output_type": "execute_result",
     "data": {
      "text/plain": [
       "                                                Quantity\n",
       "Menu_Item                                               \n",
       "burnt garlic tonkotsu ramen                         9070\n",
       "miso crab ramen                                     8890\n",
       "nagomi shoyu                                        9132\n",
       "shio ramen                                          9180\n",
       "soft-shell miso crab ramen                          9130\n",
       "spicy miso ramen                                    9238\n",
       "tonkotsu ramen                                      9288\n",
       "tori paitan ramen                                   9156\n",
       "truffle butter ramen                                8982\n",
       "vegetarian curry + king trumpet mushroom ramen      8824\n",
       "vegetarian spicy miso                               9216"
      ],
      "text/html": "<div>\n<style scoped>\n    .dataframe tbody tr th:only-of-type {\n        vertical-align: middle;\n    }\n\n    .dataframe tbody tr th {\n        vertical-align: top;\n    }\n\n    .dataframe thead th {\n        text-align: right;\n    }\n</style>\n<table border=\"1\" class=\"dataframe\">\n  <thead>\n    <tr style=\"text-align: right;\">\n      <th></th>\n      <th>Quantity</th>\n    </tr>\n    <tr>\n      <th>Menu_Item</th>\n      <th></th>\n    </tr>\n  </thead>\n  <tbody>\n    <tr>\n      <th>burnt garlic tonkotsu ramen</th>\n      <td>9070</td>\n    </tr>\n    <tr>\n      <th>miso crab ramen</th>\n      <td>8890</td>\n    </tr>\n    <tr>\n      <th>nagomi shoyu</th>\n      <td>9132</td>\n    </tr>\n    <tr>\n      <th>shio ramen</th>\n      <td>9180</td>\n    </tr>\n    <tr>\n      <th>soft-shell miso crab ramen</th>\n      <td>9130</td>\n    </tr>\n    <tr>\n      <th>spicy miso ramen</th>\n      <td>9238</td>\n    </tr>\n    <tr>\n      <th>tonkotsu ramen</th>\n      <td>9288</td>\n    </tr>\n    <tr>\n      <th>tori paitan ramen</th>\n      <td>9156</td>\n    </tr>\n    <tr>\n      <th>truffle butter ramen</th>\n      <td>8982</td>\n    </tr>\n    <tr>\n      <th>vegetarian curry + king trumpet mushroom ramen</th>\n      <td>8824</td>\n    </tr>\n    <tr>\n      <th>vegetarian spicy miso</th>\n      <td>9216</td>\n    </tr>\n  </tbody>\n</table>\n</div>"
     },
     "metadata": {},
     "execution_count": 43
    }
   ],
   "source": [
    "\n",
    "sdf = pd.read_csv(salespath)\n",
    "\n",
    "quantity = pd.pivot_table(sdf, index = ['Menu_Item'], values = ['Quantity',\"\", aggfunc = np.sum)\n",
    "\n",
    "\n",
    "        \n",
    "\n"
   ]
  },
  {
   "cell_type": "code",
   "execution_count": null,
   "metadata": {},
   "outputs": [],
   "source": []
  }
 ]
}