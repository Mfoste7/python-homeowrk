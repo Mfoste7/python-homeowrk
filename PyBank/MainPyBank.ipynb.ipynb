{
 "metadata": {
  "language_info": {
   "codemirror_mode": {
    "name": "ipython",
    "version": 3
   },
   "file_extension": ".py",
   "mimetype": "text/x-python",
   "name": "python",
   "nbconvert_exporter": "python",
   "pygments_lexer": "ipython3",
   "version": "3.8.3-final"
  },
  "orig_nbformat": 2,
  "kernelspec": {
   "name": "python3",
   "display_name": "Python 3"
  }
 },
 "nbformat": 4,
 "nbformat_minor": 2,
 "cells": [
  {
   "cell_type": "code",
   "execution_count": 433,
   "metadata": {},
   "outputs": [],
   "source": [
    "from pathlib import Path\n",
    "import csv\n",
    "import numpy as np\n",
    "import pandas as pd"
   ]
  },
  {
   "cell_type": "code",
   "execution_count": 450,
   "metadata": {},
   "outputs": [
    {
     "output_type": "stream",
     "name": "stdout",
     "text": [
      "MVF PyBank\n-----------------\nTotal Months: 86\nTotal: $38382578\nAverage Change: $446309)\nGreatest Month-Over-Month Increase in P&L: $1170593)\nGreatest Month-Over-Month Decrease in P&L: $-1163797)\n"
     ]
    }
   ],
   "source": [
    "# Set Path\n",
    "path = Path('../Resources/budget_data.csv')\n",
    "with open(bankpath, 'r') as csvfile:\n",
    "    \n",
    "    bankdata = csv.reader(csvfile, delimiter=',')\n",
    "    bank_header = next(bankdata)\n",
    "    delta_pl = 0\n",
    "    cum_pl = 0\n",
    "    cum_month = 0\n",
    "    PL = int(row[1])\n",
    "    minimumPL = 0\n",
    "    maximumPL = 0\n",
    "\n",
    "    for row in bankdata:\n",
    "        cum_month = cum_month + 1\n",
    "        pl = int(row[1])\n",
    "        cum_pl = cum_pl + pl\n",
    "        if pl <= 0:\n",
    "            minimumPL = pl\n",
    "        elif pl > maximumPL:\n",
    "            maximumPL = pl  \n",
    "\n",
    "\n",
    "\n",
    "\n",
    "\n",
    "\n",
    "print(\"MVF PyBank\")\n",
    "print(\"-----------------\")\n",
    "\n",
    "print(f\"Total Months: {cum_month}\")\n",
    "print(f\"Total: ${cum_pl}\")\n",
    "print(f\"Average Change: ${avg_change})\")\n",
    "print(f\"Greatest Month-Over-Month Increase in P&L: ${maximumPL})\")\n",
    "print(f\"Greatest Month-Over-Month Decrease in P&L: ${minimumPL})\")\n",
    "        \n",
    "      \n",
    "\n",
    "\n"
   ]
  },
  {
   "cell_type": "code",
   "execution_count": null,
   "metadata": {},
   "outputs": [],
   "source": []
  }
 ]
}